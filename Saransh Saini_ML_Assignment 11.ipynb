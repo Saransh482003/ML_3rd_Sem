{
 "cells": [
  {
   "cell_type": "code",
   "execution_count": 1,
   "id": "835a6e0f",
   "metadata": {},
   "outputs": [],
   "source": [
    "import numpy as np\n",
    "import pandas as pd"
   ]
  },
  {
   "cell_type": "markdown",
   "id": "24d23eb9",
   "metadata": {},
   "source": [
    "## Creating Datasets"
   ]
  },
  {
   "cell_type": "code",
   "execution_count": 2,
   "id": "9818b4e7",
   "metadata": {},
   "outputs": [
    {
     "data": {
      "text/plain": [
       "'\\nFor simplicity the labels of \"Normal\" and \"Tumor\" are mapped to 0 and 1 respectively.\\n0 => Normal\\n1 => Tumor\\n'"
      ]
     },
     "execution_count": 2,
     "metadata": {},
     "output_type": "execute_result"
    }
   ],
   "source": [
    "\"\"\"\n",
    "For simplicity the labels of \"Normal\" and \"Tumor\" are mapped to 0 and 1 respectively.\n",
    "0 => Normal\n",
    "1 => Tumor\n",
    "\"\"\""
   ]
  },
  {
   "cell_type": "code",
   "execution_count": 3,
   "id": "81992358",
   "metadata": {},
   "outputs": [],
   "source": [
    "data = np.array([[1,1,0,-1,-1,-1,0,1,1,-1,1,0,0,-1],\n",
    "        [1,1,1,0,-1,-1,-1,0,-1,0,0,0,1,0],\n",
    "        [1,1,1,1,0,0,0,1,0,0,0,1,0,1],\n",
    "        [0,1,0,0,0,1,1,0,0,0,1,1,0,1],\n",
    "        [0,0,1,1,1,0,1,0,1,1,1,1,1,0]]).T"
   ]
  },
  {
   "cell_type": "code",
   "execution_count": 4,
   "id": "e2d8248e",
   "metadata": {},
   "outputs": [],
   "source": [
    "# Gaussian Naive Bayes example\n",
    "data2 = np.array([[1,1,0,-1,-1,-1,0,1,1,-1,1,0,0,-1],\n",
    "        [35,30,32,20,15,13,11,22,14,24,23,25,33,21],\n",
    "        [1,1,1,1,0,0,0,1,0,0,0,1,0,1],\n",
    "        [0,1,0,0,0,1,1,0,0,0,1,1,0,1],\n",
    "        [0,0,1,1,1,0,1,0,1,1,1,1,1,0]]).T"
   ]
  },
  {
   "cell_type": "markdown",
   "id": "ec56a7fa",
   "metadata": {},
   "source": [
    "## Scratch Models"
   ]
  },
  {
   "cell_type": "code",
   "execution_count": 5,
   "id": "7d842b00",
   "metadata": {},
   "outputs": [],
   "source": [
    "def normal_dister(data,col,val):\n",
    "    std = data[:,col].std()\n",
    "    mean = data[:,col].mean()\n",
    "    root = np.sqrt(len(data))\n",
    "    return round((1/(std*np.sqrt(2*np.pi)))*np.exp(-0.5*(((val-mean)/std)**2)),6)"
   ]
  },
  {
   "cell_type": "code",
   "execution_count": 6,
   "id": "2dd7f4b5",
   "metadata": {},
   "outputs": [],
   "source": [
    "def Naive(data,pred):\n",
    "    \"\"\"\n",
    "    Inputs the training data and test data, and returns the class it belongs to.\n",
    "    \"\"\"\n",
    "    rt = []\n",
    "    for i in set(data[:,-1]):\n",
    "        prod = 1\n",
    "        for j,k in enumerate(pred):\n",
    "            if len(set(data[:,j]))<len(data):\n",
    "                prod *= (len(data[(data[:,-1]==i)&(data[:,j]==k)])/len(data[data[:,-1]==i]))\n",
    "            else:\n",
    "                prod *= normal_dister(data[data[:,-1]==i],j,k)\n",
    "        prod *= (len(data[data[:,-1]==i])/len(data))\n",
    "        rt.append(prod)\n",
    "    p_pred=[i/sum(rt) for i in rt]\n",
    "    return p_pred.index(max(p_pred))"
   ]
  },
  {
   "cell_type": "markdown",
   "id": "8194388e",
   "metadata": {},
   "source": [
    "## Making Predictions"
   ]
  },
  {
   "cell_type": "code",
   "execution_count": 7,
   "id": "55bf55fd",
   "metadata": {},
   "outputs": [],
   "source": [
    "test = np.array([1,-1,1,1])\n",
    "test2 = np.array([1,12,1,1])"
   ]
  },
  {
   "cell_type": "code",
   "execution_count": 8,
   "id": "b365d093",
   "metadata": {},
   "outputs": [
    {
     "data": {
      "text/plain": [
       "0"
      ]
     },
     "execution_count": 8,
     "metadata": {},
     "output_type": "execute_result"
    }
   ],
   "source": [
    "Naive(data,test)"
   ]
  },
  {
   "cell_type": "code",
   "execution_count": 9,
   "id": "6f3c0153",
   "metadata": {},
   "outputs": [
    {
     "data": {
      "text/plain": [
       "0"
      ]
     },
     "execution_count": 9,
     "metadata": {},
     "output_type": "execute_result"
    }
   ],
   "source": [
    "# Gaussian Naive Bayes test\n",
    "Naive(data2,test2)"
   ]
  },
  {
   "cell_type": "code",
   "execution_count": null,
   "id": "33ebcdda",
   "metadata": {},
   "outputs": [],
   "source": []
  }
 ],
 "metadata": {
  "kernelspec": {
   "display_name": "Python 3 (ipykernel)",
   "language": "python",
   "name": "python3"
  },
  "language_info": {
   "codemirror_mode": {
    "name": "ipython",
    "version": 3
   },
   "file_extension": ".py",
   "mimetype": "text/x-python",
   "name": "python",
   "nbconvert_exporter": "python",
   "pygments_lexer": "ipython3",
   "version": "3.9.7"
  }
 },
 "nbformat": 4,
 "nbformat_minor": 5
}
