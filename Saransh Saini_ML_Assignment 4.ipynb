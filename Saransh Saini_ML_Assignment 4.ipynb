{
 "cells": [
  {
   "cell_type": "code",
   "execution_count": 1,
   "id": "19ef11d1",
   "metadata": {},
   "outputs": [],
   "source": [
    "import numpy as np\n",
    "import pandas as pd\n",
    "import matplotlib.pyplot as plt\n",
    "from mnist import MNIST\n",
    "from sklearn.metrics import ConfusionMatrixDisplay, classification_report"
   ]
  },
  {
   "cell_type": "markdown",
   "id": "9ee85387",
   "metadata": {},
   "source": [
    "## Loading the Data"
   ]
  },
  {
   "cell_type": "code",
   "execution_count": 2,
   "id": "a83e7322",
   "metadata": {},
   "outputs": [],
   "source": [
    "with np.load(\"mnist.npz\") as data:\n",
    "    x_train = data[\"training_images\"]\n",
    "    y_train = data[\"training_labels\"]\n",
    "    x_test = data[\"test_images\"]\n",
    "    y_test = data[\"test_labels\"]\n",
    "    v_x = data[\"validation_images\"]\n",
    "    v_y = data[\"validation_labels\"]"
   ]
  },
  {
   "cell_type": "markdown",
   "id": "d4fa0e3d",
   "metadata": {},
   "source": [
    "### Merging Training and Validation Datasets"
   ]
  },
  {
   "cell_type": "code",
   "execution_count": 3,
   "id": "eba4184d",
   "metadata": {},
   "outputs": [],
   "source": [
    "x_train = np.append(x_train,v_x,axis=0)\n",
    "y_train = np.append(y_train,v_y,axis=0)"
   ]
  },
  {
   "cell_type": "code",
   "execution_count": 4,
   "id": "0ae2cb3f",
   "metadata": {},
   "outputs": [
    {
     "data": {
      "text/plain": [
       "((60000, 784, 1), (60000, 10, 1))"
      ]
     },
     "execution_count": 4,
     "metadata": {},
     "output_type": "execute_result"
    }
   ],
   "source": [
    "x_train.shape,y_train.shape"
   ]
  },
  {
   "cell_type": "markdown",
   "id": "b61025ff",
   "metadata": {},
   "source": [
    "### Flattening the Images"
   ]
  },
  {
   "cell_type": "code",
   "execution_count": 5,
   "id": "eaee4ab1",
   "metadata": {},
   "outputs": [],
   "source": [
    "x_train = np.reshape(x_train,(60000,28*28))\n",
    "x_test = np.reshape(x_test, (10000,28*28))"
   ]
  },
  {
   "cell_type": "markdown",
   "id": "50c46546",
   "metadata": {},
   "source": [
    "### Merging Dummies for Labels"
   ]
  },
  {
   "cell_type": "code",
   "execution_count": 6,
   "id": "1a13595f",
   "metadata": {},
   "outputs": [],
   "source": [
    "y_t = []\n",
    "for i in range(len(y_train)):\n",
    "    y_t.append([i[0] for i in y_train[i]].index(1))\n",
    "y_train = np.array(y_t)"
   ]
  },
  {
   "cell_type": "code",
   "execution_count": 7,
   "id": "3e5c06b4",
   "metadata": {},
   "outputs": [],
   "source": [
    "y_tt = []\n",
    "for i in range(len(y_test)):\n",
    "    y_tt.append([i[0] for i in y_test[i]].index(1))\n",
    "y_test = np.array(y_tt)"
   ]
  },
  {
   "cell_type": "markdown",
   "id": "64396c4b",
   "metadata": {},
   "source": [
    "## Centroid Calculation"
   ]
  },
  {
   "cell_type": "code",
   "execution_count": 8,
   "id": "4d812801",
   "metadata": {},
   "outputs": [],
   "source": [
    "centroid = []\n",
    "for i in set(y_train):\n",
    "    fr = []\n",
    "    for j in range(x_train.shape[1]):\n",
    "        fr.append(x_train[y_train==i][:,j].mean())\n",
    "    centroid.append(fr)\n",
    "centroid = np.array(centroid)"
   ]
  },
  {
   "cell_type": "code",
   "execution_count": 9,
   "id": "ec171b95",
   "metadata": {},
   "outputs": [
    {
     "name": "stdout",
     "output_type": "stream",
     "text": [
      "Label 0\n"
     ]
    },
    {
     "data": {
      "image/png": "[encoded data removed]",
      "text/plain": [
       "<Figure size 144x144 with 1 Axes>"
      ]
     },
     "metadata": {
      "needs_background": "light"
     },
     "output_type": "display_data"
    },
    {
     "name": "stdout",
     "output_type": "stream",
     "text": [
      "Label 1\n"
     ]
    },
    {
     "data": {
      "image/png": "[encoded data removed]",
      "text/plain": [
       "<Figure size 144x144 with 1 Axes>"
      ]
     },
     "metadata": {
      "needs_background": "light"
     },
     "output_type": "display_data"
    },
    {
     "name": "stdout",
     "output_type": "stream",
     "text": [
      "Label 2\n"
     ]
    },
    {
     "data": {
      "image/png": "[encoded data removed]",
      "text/plain": [
       "<Figure size 144x144 with 1 Axes>"
      ]
     },
     "metadata": {
      "needs_background": "light"
     },
     "output_type": "display_data"
    },
    {
     "name": "stdout",
     "output_type": "stream",
     "text": [
      "Label 3\n"
     ]
    },
    {
     "data": {
      "image/png": "[encoded data removed]",
      "text/plain": [
       "<Figure size 144x144 with 1 Axes>"
      ]
     },
     "metadata": {
      "needs_background": "light"
     },
     "output_type": "display_data"
    },
    {
     "name": "stdout",
     "output_type": "stream",
     "text": [
      "Label 4\n"
     ]
    },
    {
     "data": {
      "image/png": "[encoded data removed]",
      "text/plain": [
       "<Figure size 144x144 with 1 Axes>"
      ]
     },
     "metadata": {
      "needs_background": "light"
     },
     "output_type": "display_data"
    },
    {
     "name": "stdout",
     "output_type": "stream",
     "text": [
      "Label 5\n"
     ]
    },
    {
     "data": {
      "image/png": "[encoded data removed]",
      "text/plain": [
       "<Figure size 144x144 with 1 Axes>"
      ]
     },
     "metadata": {
      "needs_background": "light"
     },
     "output_type": "display_data"
    },
    {
     "name": "stdout",
     "output_type": "stream",
     "text": [
      "Label 6\n"
     ]
    },
    {
     "data": {
      "image/png": "[encoded data removed]",
      "text/plain": [
       "<Figure size 144x144 with 1 Axes>"
      ]
     },
     "metadata": {
      "needs_background": "light"
     },
     "output_type": "display_data"
    },
    {
     "name": "stdout",
     "output_type": "stream",
     "text": [
      "Label 7\n"
     ]
    },
    {
     "data": {
      "image/png": "[encoded data removed]",
      "text/plain": [
       "<Figure size 144x144 with 1 Axes>"
      ]
     },
     "metadata": {
      "needs_background": "light"
     },
     "output_type": "display_data"
    },
    {
     "name": "stdout",
     "output_type": "stream",
     "text": [
      "Label 8\n"
     ]
    },
    {
     "data": {
      "image/png": "[encoded data removed]",
      "text/plain": [
       "<Figure size 144x144 with 1 Axes>"
      ]
     },
     "metadata": {
      "needs_background": "light"
     },
     "output_type": "display_data"
    },
    {
     "name": "stdout",
     "output_type": "stream",
     "text": [
      "Label 9\n"
     ]
    },
    {
     "data": {
      "image/png": "[encoded data removed]",
      "text/plain": [
       "<Figure size 144x144 with 1 Axes>"
      ]
     },
     "metadata": {
      "needs_background": "light"
     },
     "output_type": "display_data"
    }
   ],
   "source": [
    "for i,j in enumerate(centroid):\n",
    "    print(f\"Label {i}\")\n",
    "    image_plot = np.reshape(j, (28,28))\n",
    "    plt.figure(figsize=(2,2))\n",
    "    plt.axis(\"off\")\n",
    "    plt.imshow(image_plot, cmap=\"gray\", aspect=\"auto\")\n",
    "    plt.show()"
   ]
  },
  {
   "cell_type": "markdown",
   "id": "a64c3349",
   "metadata": {},
   "source": [
    "## Prediction"
   ]
  },
  {
   "cell_type": "code",
   "execution_count": 10,
   "id": "fd66cfdf",
   "metadata": {},
   "outputs": [],
   "source": [
    "coddist = lambda a,b: np.sqrt(np.sum((a-b)**2)).round(3)"
   ]
  },
  {
   "cell_type": "code",
   "execution_count": 11,
   "id": "910606cc",
   "metadata": {},
   "outputs": [],
   "source": [
    "y_preds = []\n",
    "for i in x_test:\n",
    "    s = [coddist(i,j) for j in centroid]\n",
    "    y_preds.append(s.index(min(s)))\n",
    "y_preds = np.array(y_preds)"
   ]
  },
  {
   "cell_type": "markdown",
   "id": "e5b33881",
   "metadata": {},
   "source": [
    "## Accuracy Metrics"
   ]
  },
  {
   "cell_type": "markdown",
   "id": "2293a18c",
   "metadata": {},
   "source": [
    "### Total Accuracy"
   ]
  },
  {
   "cell_type": "code",
   "execution_count": 12,
   "id": "bc6f75da",
   "metadata": {},
   "outputs": [
    {
     "name": "stdout",
     "output_type": "stream",
     "text": [
      "Total Accuracy : 82.05%\n"
     ]
    }
   ],
   "source": [
    "tot = ((sum(y_preds==y_test)/len(y_preds))*100).round(2)\n",
    "print(f\"Total Accuracy : {tot}%\")"
   ]
  },
  {
   "cell_type": "markdown",
   "id": "2fbb90ca",
   "metadata": {},
   "source": [
    "### Class Wise Accuracy"
   ]
  },
  {
   "cell_type": "code",
   "execution_count": 13,
   "id": "00dfbe80",
   "metadata": {},
   "outputs": [
    {
     "name": "stdout",
     "output_type": "stream",
     "text": [
      "Accuracy for Label 0: 91.27%\n",
      "Accuracy for Label 1: 76.96%\n",
      "Accuracy for Label 2: 87.85%\n",
      "Accuracy for Label 3: 76.53%\n",
      "Accuracy for Label 4: 80.16%\n",
      "Accuracy for Label 5: 75.18%\n",
      "Accuracy for Label 6: 87.7%\n",
      "Accuracy for Label 7: 91.26%\n",
      "Accuracy for Label 8: 79.16%\n",
      "Accuracy for Label 9: 77.52%\n"
     ]
    }
   ],
   "source": [
    "lab_acc = []\n",
    "for i in set(y_train):\n",
    "    s = ((sum((y_test[y_preds==i]-y_preds[y_preds==i])==0)/len(y_preds[y_preds==i]))*100).round(2)\n",
    "    lab_acc.append(s)\n",
    "    print(f\"Accuracy for Label {i}: {s}%\")"
   ]
  },
  {
   "cell_type": "markdown",
   "id": "e5614d44",
   "metadata": {},
   "source": [
    "## Cheery on the Top!!"
   ]
  },
  {
   "cell_type": "code",
   "execution_count": 14,
   "id": "72580910",
   "metadata": {},
   "outputs": [
    {
     "data": {
      "image/png": "[encoded data removed]",
      "text/plain": [
       "<Figure size 720x720 with 2 Axes>"
      ]
     },
     "metadata": {
      "needs_background": "light"
     },
     "output_type": "display_data"
    }
   ],
   "source": [
    "conf = ConfusionMatrixDisplay.from_predictions(y_test,y_preds,cmap=\"Reds\")\n",
    "fig = conf.ax_.get_figure() \n",
    "fig.set_figwidth(10)\n",
    "fig.set_figheight(10)  "
   ]
  },
  {
   "cell_type": "code",
   "execution_count": 15,
   "id": "3981f5f8",
   "metadata": {},
   "outputs": [
    {
     "name": "stdout",
     "output_type": "stream",
     "text": [
      "              precision    recall  f1-score   support\n",
      "\n",
      "           0       0.91      0.90      0.90       980\n",
      "           1       0.77      0.96      0.86      1135\n",
      "           2       0.88      0.76      0.81      1032\n",
      "           3       0.77      0.81      0.79      1010\n",
      "           4       0.80      0.83      0.81       982\n",
      "           5       0.75      0.69      0.72       892\n",
      "           6       0.88      0.86      0.87       958\n",
      "           7       0.91      0.83      0.87      1028\n",
      "           8       0.79      0.74      0.76       974\n",
      "           9       0.78      0.81      0.79      1009\n",
      "\n",
      "    accuracy                           0.82     10000\n",
      "   macro avg       0.82      0.82      0.82     10000\n",
      "weighted avg       0.82      0.82      0.82     10000\n",
      "\n"
     ]
    }
   ],
   "source": [
    "print(classification_report(y_test,y_preds))"
   ]
  },
  {
   "cell_type": "markdown",
   "id": "2c76dd85",
   "metadata": {},
   "source": [
    "## Exporting the Exploits"
   ]
  },
  {
   "cell_type": "code",
   "execution_count": 16,
   "id": "5310612c",
   "metadata": {},
   "outputs": [],
   "source": [
    "df = pd.DataFrame()\n",
    "df[\"Metric\"] = [f\"Label {i}\" for i in set(y_train)]\n",
    "df[\"Accuracy\"] = [i/100 for i in lab_acc]\n",
    "df.loc[10] = [\"Total\",tot/100]"
   ]
  },
  {
   "cell_type": "code",
   "execution_count": 17,
   "id": "269be144",
   "metadata": {},
   "outputs": [
    {
     "data": {
      "text/html": [
       "<div>\n",
       "<style scoped>\n",
       "    .dataframe tbody tr th:only-of-type {\n",
       "        vertical-align: middle;\n",
       "    }\n",
       "\n",
       "    .dataframe tbody tr th {\n",
       "        vertical-align: top;\n",
       "    }\n",
       "\n",
       "    .dataframe thead th {\n",
       "        text-align: right;\n",
       "    }\n",
       "</style>\n",
       "<table border=\"1\" class=\"dataframe\">\n",
       "  <thead>\n",
       "    <tr style=\"text-align: right;\">\n",
       "      <th></th>\n",
       "      <th>Metric</th>\n",
       "      <th>Accuracy</th>\n",
       "    </tr>\n",
       "  </thead>\n",
       "  <tbody>\n",
       "    <tr>\n",
       "      <th>0</th>\n",
       "      <td>Label 0</td>\n",
       "      <td>0.9127</td>\n",
       "    </tr>\n",
       "    <tr>\n",
       "      <th>1</th>\n",
       "      <td>Label 1</td>\n",
       "      <td>0.7696</td>\n",
       "    </tr>\n",
       "    <tr>\n",
       "      <th>2</th>\n",
       "      <td>Label 2</td>\n",
       "      <td>0.8785</td>\n",
       "    </tr>\n",
       "    <tr>\n",
       "      <th>3</th>\n",
       "      <td>Label 3</td>\n",
       "      <td>0.7653</td>\n",
       "    </tr>\n",
       "    <tr>\n",
       "      <th>4</th>\n",
       "      <td>Label 4</td>\n",
       "      <td>0.8016</td>\n",
       "    </tr>\n",
       "    <tr>\n",
       "      <th>5</th>\n",
       "      <td>Label 5</td>\n",
       "      <td>0.7518</td>\n",
       "    </tr>\n",
       "    <tr>\n",
       "      <th>6</th>\n",
       "      <td>Label 6</td>\n",
       "      <td>0.8770</td>\n",
       "    </tr>\n",
       "    <tr>\n",
       "      <th>7</th>\n",
       "      <td>Label 7</td>\n",
       "      <td>0.9126</td>\n",
       "    </tr>\n",
       "    <tr>\n",
       "      <th>8</th>\n",
       "      <td>Label 8</td>\n",
       "      <td>0.7916</td>\n",
       "    </tr>\n",
       "    <tr>\n",
       "      <th>9</th>\n",
       "      <td>Label 9</td>\n",
       "      <td>0.7752</td>\n",
       "    </tr>\n",
       "    <tr>\n",
       "      <th>10</th>\n",
       "      <td>Total</td>\n",
       "      <td>0.8205</td>\n",
       "    </tr>\n",
       "  </tbody>\n",
       "</table>\n",
       "</div>"
      ],
      "text/plain": [
       "     Metric  Accuracy\n",
       "0   Label 0    0.9127\n",
       "1   Label 1    0.7696\n",
       "2   Label 2    0.8785\n",
       "3   Label 3    0.7653\n",
       "4   Label 4    0.8016\n",
       "5   Label 5    0.7518\n",
       "6   Label 6    0.8770\n",
       "7   Label 7    0.9126\n",
       "8   Label 8    0.7916\n",
       "9   Label 9    0.7752\n",
       "10    Total    0.8205"
      ]
     },
     "execution_count": 17,
     "metadata": {},
     "output_type": "execute_result"
    }
   ],
   "source": [
    "df"
   ]
  },
  {
   "cell_type": "code",
   "execution_count": 18,
   "id": "957aa0b7",
   "metadata": {},
   "outputs": [],
   "source": [
    "# df.to_csv(\"MNIST by Nakli KNN.csv\",index=False,header=True)"
   ]
  },
  {
   "cell_type": "code",
   "execution_count": null,
   "id": "bc48fb21",
   "metadata": {},
   "outputs": [],
   "source": []
  }
 ],
 "metadata": {
  "kernelspec": {
   "display_name": "Python 3 (ipykernel)",
   "language": "python",
   "name": "python3"
  },
  "language_info": {
   "codemirror_mode": {
    "name": "ipython",
    "version": 3
   },
   "file_extension": ".py",
   "mimetype": "text/x-python",
   "name": "python",
   "nbconvert_exporter": "python",
   "pygments_lexer": "ipython3",
   "version": "3.9.7"
  }
 },
 "nbformat": 4,
 "nbformat_minor": 5
}
