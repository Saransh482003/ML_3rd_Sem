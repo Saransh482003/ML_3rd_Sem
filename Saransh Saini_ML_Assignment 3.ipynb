{
 "cells": [
  {
   "cell_type": "code",
   "execution_count": 1,
   "id": "20ecfd40",
   "metadata": {},
   "outputs": [],
   "source": [
    "import pandas as pd\n",
    "import numpy as np\n",
    "from sklearn.datasets import load_iris"
   ]
  },
  {
   "cell_type": "markdown",
   "id": "af40bd43",
   "metadata": {},
   "source": [
    "## Loading Data"
   ]
  },
  {
   "cell_type": "code",
   "execution_count": 2,
   "id": "096bcb80",
   "metadata": {},
   "outputs": [],
   "source": [
    "try:\n",
    "    data = pd.read_csv(\"Iris-Dataset.csv\")\n",
    "    inputs = np.array(data.drop(\"y\",axis=1))\n",
    "    targets = np.array(data[\"y\"])\n",
    "    targets = np.array([{j:i for i,j in enumerate(data[\"y\"].unique())}[k] for k in targets])\n",
    "except:\n",
    "    data = load_iris()\n",
    "    inputs = data.data\n",
    "    targets = data.target"
   ]
  },
  {
   "cell_type": "markdown",
   "id": "10aacef0",
   "metadata": {},
   "source": [
    "## Train Test Split"
   ]
  },
  {
   "cell_type": "code",
   "execution_count": 3,
   "id": "66b77d37",
   "metadata": {},
   "outputs": [],
   "source": [
    "x_train,x_test=np.zeros((120,4)),np.zeros((30,4))\n",
    "y_train,y_test=np.zeros((120,)),np.zeros((30,))\n",
    "\n",
    "for i,j in zip(range(0,150,50),range(0,120,40)):\n",
    "    x_train[j:j+40] = inputs[i:i+40]\n",
    "    y_train[j:j+40] = targets[i:i+40]\n",
    "    \n",
    "for i,j in zip(range(40,150,50),range(0,30,10)):\n",
    "    x_test[j:j+10] = inputs[i:i+10]\n",
    "    y_test[j:j+10] = targets[i:i+10]"
   ]
  },
  {
   "cell_type": "markdown",
   "id": "d0bfc20c",
   "metadata": {},
   "source": [
    "## Calculating Clusters"
   ]
  },
  {
   "cell_type": "code",
   "execution_count": 4,
   "id": "997e5f62",
   "metadata": {},
   "outputs": [],
   "source": [
    "c_0 = np.array([x_train[0:40,i].mean() for i in range(len(x_train[0,:]))])\n",
    "c_1 = np.array([x_train[40:80,i].mean() for i in range(len(x_train[0,:]))])\n",
    "c_2 = np.array([x_train[80:120,i].mean() for i in range(len(x_train[0,:]))])"
   ]
  },
  {
   "cell_type": "markdown",
   "id": "141cb752",
   "metadata": {},
   "source": [
    "## Predictions"
   ]
  },
  {
   "cell_type": "code",
   "execution_count": 5,
   "id": "8bf9d339",
   "metadata": {},
   "outputs": [],
   "source": [
    "coddist = lambda a,b: np.sqrt(np.sum((a-b)**2)).round(3)"
   ]
  },
  {
   "cell_type": "code",
   "execution_count": 6,
   "id": "64a32911",
   "metadata": {},
   "outputs": [],
   "source": [
    "y_test_preds = []\n",
    "for s in x_test:\n",
    "    d = [coddist(s,i) for i in [c_0,c_1,c_2]]\n",
    "    y_test_preds.append(d.index(min(d)))"
   ]
  },
  {
   "cell_type": "markdown",
   "id": "8d0f4276",
   "metadata": {},
   "source": [
    "## Accuracy Metric"
   ]
  },
  {
   "cell_type": "code",
   "execution_count": 7,
   "id": "08ded1c7",
   "metadata": {},
   "outputs": [
    {
     "data": {
      "text/plain": [
       "'Accuracy : 96.67 %'"
      ]
     },
     "execution_count": 7,
     "metadata": {},
     "output_type": "execute_result"
    }
   ],
   "source": [
    "f\"Accuracy : {((sum(y_test==y_test_preds)/len(y_test))*100).round(2)} %\""
   ]
  },
  {
   "cell_type": "code",
   "execution_count": 9,
   "id": "168d7ac8",
   "metadata": {},
   "outputs": [
    {
     "data": {
      "text/plain": [
       "29"
      ]
     },
     "execution_count": 9,
     "metadata": {},
     "output_type": "execute_result"
    }
   ],
   "source": [
    "sum(y_test == np.array(y_test_preds).tolist())"
   ]
  },
  {
   "cell_type": "markdown",
   "id": "d2baa261",
   "metadata": {},
   "source": [
    "## Just a Cherry on the Top!"
   ]
  },
  {
   "cell_type": "code",
   "execution_count": 10,
   "id": "ae946a4c",
   "metadata": {},
   "outputs": [],
   "source": [
    "from sklearn.metrics import ConfusionMatrixDisplay, classification_report"
   ]
  },
  {
   "cell_type": "code",
   "execution_count": 11,
   "id": "b24b416b",
   "metadata": {},
   "outputs": [
    {
     "data": {
      "image/png": "[encoded data removed]",
      "text/plain": [
       "<Figure size 720x720 with 2 Axes>"
      ]
     },
     "metadata": {
      "needs_background": "light"
     },
     "output_type": "display_data"
    }
   ],
   "source": [
    "conf = ConfusionMatrixDisplay.from_predictions(y_test,y_test_preds,\n",
    "                                               labels=[0,1,2],\n",
    "                                               cmap=\"Reds\")\n",
    "\n",
    "fig = conf.ax_.get_figure() \n",
    "fig.set_figwidth(10)\n",
    "fig.set_figheight(10) "
   ]
  },
  {
   "cell_type": "code",
   "execution_count": 12,
   "id": "6a299492",
   "metadata": {},
   "outputs": [
    {
     "name": "stdout",
     "output_type": "stream",
     "text": [
      "              precision    recall  f1-score   support\n",
      "\n",
      "           0       1.00      1.00      1.00        10\n",
      "           1       0.91      1.00      0.95        10\n",
      "           2       1.00      0.90      0.95        10\n",
      "\n",
      "    accuracy                           0.97        30\n",
      "   macro avg       0.97      0.97      0.97        30\n",
      "weighted avg       0.97      0.97      0.97        30\n",
      "\n"
     ]
    }
   ],
   "source": [
    "print(classification_report(y_test,y_test_preds,\n",
    "                            target_names=[\"0\",\"1\",\"2\"]))"
   ]
  },
  {
   "cell_type": "code",
   "execution_count": null,
   "id": "1ee62e4c",
   "metadata": {},
   "outputs": [],
   "source": []
  },
  {
   "cell_type": "code",
   "execution_count": null,
   "id": "7dd24c79",
   "metadata": {},
   "outputs": [],
   "source": []
  }
 ],
 "metadata": {
  "kernelspec": {
   "display_name": "Python 3 (ipykernel)",
   "language": "python",
   "name": "python3"
  },
  "language_info": {
   "codemirror_mode": {
    "name": "ipython",
    "version": 3
   },
   "file_extension": ".py",
   "mimetype": "text/x-python",
   "name": "python",
   "nbconvert_exporter": "python",
   "pygments_lexer": "ipython3",
   "version": "3.9.7"
  }
 },
 "nbformat": 4,
 "nbformat_minor": 5
}
