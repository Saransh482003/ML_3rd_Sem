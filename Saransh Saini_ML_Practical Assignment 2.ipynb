{
 "cells": [
  {
   "cell_type": "code",
   "execution_count": 1,
   "id": "763d5b62",
   "metadata": {},
   "outputs": [],
   "source": [
    "import numpy as np\n",
    "import pandas as pd\n",
    "import random\n",
    "import matplotlib.pyplot as plt\n",
    "import seaborn as sns\n",
    "sns.set()\n",
    "import warnings\n",
    "warnings.filterwarnings(\"ignore\")"
   ]
  },
  {
   "cell_type": "markdown",
   "id": "9dca6cf7",
   "metadata": {},
   "source": [
    "## Loading Dataset"
   ]
  },
  {
   "cell_type": "code",
   "execution_count": 58,
   "id": "4587f30b",
   "metadata": {},
   "outputs": [],
   "source": [
    "data = pd.read_csv(\"china_gdp.csv\")\n",
    "data = data[[\"Year\",\"Value2\",\"Value1\"]]"
   ]
  },
  {
   "cell_type": "code",
   "execution_count": 59,
   "id": "763e6096",
   "metadata": {},
   "outputs": [],
   "source": [
    "test = data.iloc[55,:]\n",
    "data.drop(55,axis=0,inplace=True)"
   ]
  },
  {
   "cell_type": "code",
   "execution_count": 60,
   "id": "be046657",
   "metadata": {},
   "outputs": [],
   "source": [
    "data = np.array(data)"
   ]
  },
  {
   "cell_type": "markdown",
   "id": "2b59db8e",
   "metadata": {},
   "source": [
    "## Shuffling Datapoints"
   ]
  },
  {
   "cell_type": "code",
   "execution_count": 61,
   "id": "6e057e11",
   "metadata": {},
   "outputs": [],
   "source": [
    "indes = np.arange(0,len(data))\n",
    "random.shuffle(indes)"
   ]
  },
  {
   "cell_type": "code",
   "execution_count": 62,
   "id": "0b728485",
   "metadata": {},
   "outputs": [],
   "source": [
    "data = data[indes]"
   ]
  },
  {
   "cell_type": "markdown",
   "id": "7f403ad4",
   "metadata": {},
   "source": [
    "## Train Test Split"
   ]
  },
  {
   "cell_type": "code",
   "execution_count": 63,
   "id": "95093a95",
   "metadata": {},
   "outputs": [],
   "source": [
    "x_train,y_train = data[:55,:-1], data[:55,-1]\n",
    "x_test,y_test = test[:-1],test[-1]"
   ]
  },
  {
   "cell_type": "code",
   "execution_count": 64,
   "id": "577f839a",
   "metadata": {},
   "outputs": [],
   "source": [
    "y_train = np.reshape(y_train,(y_train.shape[0],1))"
   ]
  },
  {
   "cell_type": "markdown",
   "id": "4e9cf0da",
   "metadata": {},
   "source": [
    "## Standardising the Data"
   ]
  },
  {
   "cell_type": "code",
   "execution_count": 65,
   "id": "83829c89",
   "metadata": {},
   "outputs": [],
   "source": [
    "x_test[0] = (x_test[0]-x_train[:,0].mean())/x_train[:,0].std()\n",
    "x_train[:,0] = (x_train[:,0]-x_train[:,0].mean())/np.std(x_train[:,0])\n",
    "y_train = (y_train-y_train.mean())/y_train.std()"
   ]
  },
  {
   "cell_type": "markdown",
   "id": "03dcd17d",
   "metadata": {},
   "source": [
    "## AdaSainiBoosting from Scratch\n",
    "#### Note: There is no such algorithm by this name. I gave it mine for fun."
   ]
  },
  {
   "cell_type": "code",
   "execution_count": 113,
   "id": "9c6ec757",
   "metadata": {},
   "outputs": [],
   "source": [
    "class AdaSainiBoost:\n",
    "    def __init__(self,learning_rate=0.01,init_val=0.1):\n",
    "        self.learning_rate = learning_rate\n",
    "        self.init_val = init_val\n",
    "        self.mse_curve = []\n",
    "    def fit(self,x_train,y_train,estimators=100,iterer=10000):\n",
    "        ins_weights = np.array([[1/len(x_train)] for _ in range(len(x_train))])\n",
    "        for i in range(estimators):\n",
    "            x_train = ins_weights * x_train\n",
    "            weights = np.random.uniform(-self.init_val,self.init_val,size=(x_train.shape[1],1))\n",
    "            bias = np.random.uniform(-self.init_val,self.init_val,size=1)\n",
    "            for _ in range(iterer):\n",
    "                preds = np.dot(x_train,weights)+bias\n",
    "                loss = preds-y_train\n",
    "                loss_std = loss/len(x_train)\n",
    "                weights = weights - self.learning_rate*np.dot(x_train.T,loss_std)\n",
    "                bias = bias - self.learning_rate*np.sum(loss_std)\n",
    "            self.mse_curve.append(((preds-y_train)**2).mean())\n",
    "            adj_error = np.array([1 if abs(i)>=np.absolute(loss).mean() else 0 for i in loss])\n",
    "            et = sum(ins_weights[:,0]*adj_error)\n",
    "            self.imp = et/(1-et)\n",
    "            ins_weights = np.array([ins_weights[i]*(self.imp**(1-adj_error[i])) for i in range(len(ins_weights))])\n",
    "            ins_weights /= sum(ins_weights)\n",
    "        self.coef_ = weights\n",
    "        self.intercept_ = bias\n",
    "    def predict(self,x_test):\n",
    "        self.preds = np.dot(x_test,self.coef_)+self.intercept_\n",
    "        return self.preds"
   ]
  },
  {
   "cell_type": "code",
   "execution_count": 114,
   "id": "6c7a84a6",
   "metadata": {},
   "outputs": [],
   "source": [
    "l = AdaSainiBoost(learning_rate=0.0001)"
   ]
  },
  {
   "cell_type": "code",
   "execution_count": 115,
   "id": "887315be",
   "metadata": {},
   "outputs": [],
   "source": [
    "l.fit(x_train,y_train,iterer=100,estimators=100)"
   ]
  },
  {
   "cell_type": "code",
   "execution_count": 116,
   "id": "79df02e2",
   "metadata": {},
   "outputs": [
    {
     "data": {
      "text/plain": [
       "array([-0.11377878])"
      ]
     },
     "execution_count": 116,
     "metadata": {},
     "output_type": "execute_result"
    }
   ],
   "source": [
    "l.predict(x_test)"
   ]
  },
  {
   "cell_type": "markdown",
   "id": "3a371ad0",
   "metadata": {},
   "source": [
    "## Epoch vs MSE Curve"
   ]
  },
  {
   "cell_type": "code",
   "execution_count": 117,
   "id": "889dea03",
   "metadata": {},
   "outputs": [],
   "source": [
    "mse = l.mse_curve"
   ]
  },
  {
   "cell_type": "code",
   "execution_count": 118,
   "id": "8ee0578a",
   "metadata": {},
   "outputs": [],
   "source": [
    "mse = [mse[i] for i in range(1,101,10)]"
   ]
  },
  {
   "cell_type": "code",
   "execution_count": 122,
   "id": "2ba25cdb",
   "metadata": {},
   "outputs": [
    {
     "data": {
      "image/png": "[encoded data removed]",
      "text/plain": [
       "<Figure size 1152x648 with 1 Axes>"
      ]
     },
     "metadata": {},
     "output_type": "display_data"
    }
   ],
   "source": [
    "plt.figure(figsize=(16,9))\n",
    "sns.lineplot(np.arange(1,101,10),mse,color=\"#ff9933\",linewidth=5)\n",
    "plt.xlabel(\"Epochs\",fontsize=15)\n",
    "plt.ylabel(\"Mean Square Error loss\",fontsize=15)\n",
    "plt.title(\"Epoch vs MSE\",fontsize=18)\n",
    "plt.show()"
   ]
  },
  {
   "cell_type": "markdown",
   "id": "355f7e1e",
   "metadata": {},
   "source": [
    "## Feature Importance"
   ]
  },
  {
   "cell_type": "code",
   "execution_count": 123,
   "id": "d55e4e8b",
   "metadata": {},
   "outputs": [
    {
     "data": {
      "text/plain": [
       "'\\nThe importance of a feature can be determined by the variance it have. The more the variance the more\\nimportance it holds in calculating the dependant variable. So here I am going to use variance as a \\nfactor to determine feature importance.\\n'"
      ]
     },
     "execution_count": 123,
     "metadata": {},
     "output_type": "execute_result"
    }
   ],
   "source": [
    "\"\"\"\n",
    "The importance of a feature can be determined by the variance it have. The more the variance the more\n",
    "importance it holds in calculating the dependant variable. So here I am going to use variance as a \n",
    "factor to determine feature importance.\n",
    "\"\"\""
   ]
  },
  {
   "cell_type": "code",
   "execution_count": 129,
   "id": "2026eb2f",
   "metadata": {},
   "outputs": [
    {
     "name": "stdout",
     "output_type": "stream",
     "text": [
      "Year: Variance = 1.0; Standard Deviation = 1.0\n",
      "Value2: Variance = 0.0; Standard Deviation = 0.0\n"
     ]
    }
   ],
   "source": [
    "for i,j in enumerate([\"Year\",\"Value2\"]):\n",
    "    print(f\"{j}: Variance = {round(x_train[:,i].var(),3)}; Standard Deviation = {round(x_train[:,i].std(),3)}\")"
   ]
  },
  {
   "cell_type": "code",
   "execution_count": null,
   "id": "da820c83",
   "metadata": {},
   "outputs": [],
   "source": [
    "\"\"\"\n",
    "Here we can see that while Year have a St. Deviation of 1, Value2 hold no St. Deviation. This is \n",
    "because of the fact that Value2 have no values other than 2. Hence we can safely remove Value2 from\n",
    "the model and no significant change would be observed.\n",
    "\"\"\""
   ]
  }
 ],
 "metadata": {
  "kernelspec": {
   "display_name": "Python 3 (ipykernel)",
   "language": "python",
   "name": "python3"
  },
  "language_info": {
   "codemirror_mode": {
    "name": "ipython",
    "version": 3
   },
   "file_extension": ".py",
   "mimetype": "text/x-python",
   "name": "python",
   "nbconvert_exporter": "python",
   "pygments_lexer": "ipython3",
   "version": "3.9.7"
  }
 },
 "nbformat": 4,
 "nbformat_minor": 5
}
